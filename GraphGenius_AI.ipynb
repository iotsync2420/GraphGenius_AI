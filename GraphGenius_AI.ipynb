{
  "nbformat": 4,
  "nbformat_minor": 0,
  "metadata": {
    "colab": {
      "provenance": [],
      "authorship_tag": "ABX9TyP+ol/CyPpjsQylH2xP2+r1",
      "include_colab_link": true
    },
    "kernelspec": {
      "name": "python3",
      "display_name": "Python 3"
    },
    "language_info": {
      "name": "python"
    }
  },
  "cells": [
    {
      "cell_type": "markdown",
      "metadata": {
        "id": "view-in-github",
        "colab_type": "text"
      },
      "source": [
        "<a href=\"https://colab.research.google.com/github/iotsync2420/GraphGenius_AI/blob/main/GraphGenius_AI.ipynb\" target=\"_parent\"><img src=\"https://colab.research.google.com/assets/colab-badge.svg\" alt=\"Open In Colab\"/></a>"
      ]
    },
    {
      "cell_type": "code",
      "source": [
        "!pip install streamlit\n",
        "!pip install agno[openai,tools,duckdb] phidata[duckdb] openai duckdb\n",
        "!pip install langchain_experimental\n",
        "!pip install langchain_openai\n",
        "!pip install langgraph langchain langchain-google-genai openai"
      ],
      "metadata": {
        "id": "05cgsr3mYpxu"
      },
      "execution_count": null,
      "outputs": []
    },
    {
      "cell_type": "code",
      "source": [
        "import pandas as pd\n",
        "import streamlit as s\n",
        "from langgraph.graph import StateGraph,END\n",
        "from langchain_openai import ChatOpenAI\n",
        "from langchain_experimental.agents import create_pandas_dataframe_agent\n",
        "import matplotlib.pyplot as plt\n",
        "\n"
      ],
      "metadata": {
        "id": "tm5HyqfjZbtG"
      },
      "execution_count": 2,
      "outputs": []
    },
    {
      "cell_type": "code",
      "source": [
        "#node 1 : file upload\n",
        "def upload_file(state):\n",
        "    uploaded_file = s.file_uploader(\"UPLOAD CSV FILE\",type=[\"csv\"])\n",
        "    if uploaded_file:\n",
        "      df=pd.read_csv(uploaded_file)\n",
        "      state[\"df\"]=df\n",
        "      s.session_state[\"df\"]=df\n",
        "    return state\n",
        "\n",
        "\n",
        "#node 2: dashboard / chart generation\n",
        "\n",
        "\n",
        "def dashboard(state):\n",
        "    if \"df\" in state:\n",
        "        df = state[\"df\"]\n",
        "\n",
        "        # Data preview\n",
        "        s.write(\"### LET'S HAVE A DATA PREVIEW!\")\n",
        "        s.dataframe(df.head())\n",
        "\n",
        "        # Histogram / Bar chart for numeric columns\n",
        "        num_columns = df.select_dtypes(include='number').columns\n",
        "        if len(num_columns) > 0:\n",
        "            s.write(\"Bar Chart (Numeric Columns)\")\n",
        "            s.bar_chart(df[num_columns])\n",
        "\n",
        "        # Scatter Plot\n",
        "        s.write(\"Scatter Plot\")\n",
        "        if len(num_columns) >= 2:\n",
        "            x_axis = s.selectbox(\"Select X-axis\", num_columns, key=\"scatter_x\")\n",
        "            y_axis = s.selectbox(\"Select Y-axis\", num_columns, key=\"scatter_y\")\n",
        "\n",
        "            fig, ax = plt.subplots()\n",
        "            ax.scatter(df[x_axis], df[y_axis])\n",
        "            ax.set_xlabel(x_axis)\n",
        "            ax.set_ylabel(y_axis)\n",
        "            ax.set_title(f\"Scatter Plot: {x_axis} vs {y_axis}\")\n",
        "            s.pyplot(fig)\n",
        "\n",
        "        # Line Chart\n",
        "        s.write(\"### Line Chart\")\n",
        "        if len(num_columns) >= 2:\n",
        "            x_axis_line = s.selectbox(\"Select X-axis for Line Chart\", num_columns, key=\"line_x\")\n",
        "            y_axis_line = s.selectbox(\"Select Y-axis for Line Chart\", num_columns, key=\"line_y\")\n",
        "\n",
        "            fig, ax = plt.subplots()\n",
        "            ax.plot(df[x_axis_line], df[y_axis_line])\n",
        "            ax.set_xlabel(x_axis_line)\n",
        "            ax.set_ylabel(y_axis_line)\n",
        "            ax.set_title(f\"Line Chart: {x_axis_line} vs {y_axis_line}\")\n",
        "            s.pyplot(fig)\n",
        "\n",
        "        # Pie Chart\n",
        "        s.write(\"### Pie Chart\")\n",
        "        cat_columns = df.select_dtypes(exclude='number').columns\n",
        "        if len(cat_columns) > 0:\n",
        "            pie_column = s.selectbox(\"Select column for Pie Chart\", cat_columns)\n",
        "            pie_data = df[pie_column].value_counts()\n",
        "\n",
        "            fig, ax = plt.subplots()\n",
        "            ax.pie(pie_data, labels=pie_data.index, autopct=\"%1.1f%%\")\n",
        "            ax.set_title(f\"Pie Chart of {pie_column}\")\n",
        "            s.pyplot(fig)\n",
        "\n",
        "    return state\n",
        "\n",
        "\n",
        "#node 3: ai_query chatbot\n",
        "def ai_query(state):\n",
        "  if \"df\" in state:\n",
        "    df=state[\"df\"]\n",
        "    qna=s.text_input(\"FEEL FREE TO ASK DATA RELATED QUERIES HERE!\")\n",
        "    if qna:\n",
        "      llm=ChatOpenAI(model=\"gpt4\",temperature=0)\n",
        "      agent=create_pandas_dataframe_agent(ChatOpenAI(temperature=0),df,verbose=True)\n",
        "      ans=agent.run(qna)\n",
        "      s.write(\"answer: \",ans)\n",
        "  return state\n",
        "\n",
        "#node 4: build langGraph\n",
        "builder =StateGraph(dict)\n",
        "\n",
        "builder.add_node(\"UPLOAD\",upload_file)\n",
        "builder.add_node(\"DASHBOARD\",dashboard)\n",
        "builder.add_node(\"QUERY_BOT\",ai_query)\n",
        "\n",
        "builder.add_edge(\"UPLOAD\",\"DASHBOARD\")\n",
        "builder.add_edge(\"DASHBOARD\",\"QUERY_BOT\")\n",
        "builder.add_edge(\"QUERY_BOT\",END)\n",
        "\n",
        "builder.set_entry_point(\"UPLOAD\")\n",
        "\n",
        "#run streamlit app\n",
        "\n",
        "s.title(\"GraphGenius_AI: AI that visualizes data brilliantly!\")\n",
        "app=builder.compile()\n",
        "app.invoke({})\n",
        "\n",
        "\n",
        "\n",
        "\n",
        "\n",
        "\n",
        "\n",
        "\n"
      ],
      "metadata": {
        "colab": {
          "base_uri": "https://localhost:8080/"
        },
        "id": "LpQ6yMkeacqC",
        "outputId": "b609812c-5580-43e9-abeb-6091380fc0b6"
      },
      "execution_count": 3,
      "outputs": [
        {
          "output_type": "stream",
          "name": "stderr",
          "text": [
            "2025-08-13 17:47:43.554 WARNING streamlit.runtime.scriptrunner_utils.script_run_context: Thread 'MainThread': missing ScriptRunContext! This warning can be ignored when running in bare mode.\n",
            "2025-08-13 17:47:43.752 \n",
            "  \u001b[33m\u001b[1mWarning:\u001b[0m to view this Streamlit app on a browser, run it with the following\n",
            "  command:\n",
            "\n",
            "    streamlit run /usr/local/lib/python3.11/dist-packages/colab_kernel_launcher.py [ARGUMENTS]\n",
            "2025-08-13 17:47:43.753 Thread 'MainThread': missing ScriptRunContext! This warning can be ignored when running in bare mode.\n",
            "2025-08-13 17:47:43.755 Thread 'MainThread': missing ScriptRunContext! This warning can be ignored when running in bare mode.\n",
            "2025-08-13 17:47:43.759 Thread 'MainThread': missing ScriptRunContext! This warning can be ignored when running in bare mode.\n",
            "2025-08-13 17:47:43.760 Session state does not function when running a script without `streamlit run`\n",
            "2025-08-13 17:47:43.762 Thread 'MainThread': missing ScriptRunContext! This warning can be ignored when running in bare mode.\n",
            "2025-08-13 17:47:43.773 Thread 'MainThread': missing ScriptRunContext! This warning can be ignored when running in bare mode.\n",
            "2025-08-13 17:47:43.773 Thread 'MainThread': missing ScriptRunContext! This warning can be ignored when running in bare mode.\n",
            "2025-08-13 17:47:43.775 Thread 'MainThread': missing ScriptRunContext! This warning can be ignored when running in bare mode.\n",
            "2025-08-13 17:47:43.776 Thread 'MainThread': missing ScriptRunContext! This warning can be ignored when running in bare mode.\n",
            "2025-08-13 17:47:43.776 Thread 'MainThread': missing ScriptRunContext! This warning can be ignored when running in bare mode.\n",
            "2025-08-13 17:47:43.777 Thread 'MainThread': missing ScriptRunContext! This warning can be ignored when running in bare mode.\n"
          ]
        },
        {
          "output_type": "execute_result",
          "data": {
            "text/plain": [
              "{}"
            ]
          },
          "metadata": {},
          "execution_count": 3
        }
      ]
    },
    {
      "cell_type": "code",
      "source": [],
      "metadata": {
        "id": "eF7trdGhhpEz"
      },
      "execution_count": 3,
      "outputs": []
    }
  ]
}